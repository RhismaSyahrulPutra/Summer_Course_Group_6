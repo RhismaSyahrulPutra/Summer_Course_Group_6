{
  "nbformat": 4,
  "nbformat_minor": 0,
  "metadata": {
    "colab": {
      "provenance": [],
      "gpuType": "T4"
    },
    "kernelspec": {
      "name": "python3",
      "display_name": "Python 3"
    },
    "language_info": {
      "name": "python"
    },
    "accelerator": "GPU"
  },
  "cells": [
    {
      "cell_type": "markdown",
      "source": [
        "## Case Study 1"
      ],
      "metadata": {
        "id": "2nBi5-RSmkMK"
      }
    },
    {
      "cell_type": "code",
      "execution_count": 1,
      "metadata": {
        "colab": {
          "base_uri": "https://localhost:8080/"
        },
        "id": "BdwUmiYymgQ-",
        "outputId": "813986f0-305c-4dde-9f8c-4c88dd4b7df4"
      },
      "outputs": [
        {
          "output_type": "stream",
          "name": "stdout",
          "text": [
            "Enter the gallons used (-1 to end): 12.8\n",
            "Enter the miles driven: 287\n",
            "The miles/gallon for this tank was 22.421875\n",
            "Enter the gallons used (-1 to end): 10.3\n",
            "Enter the miles driven: 200\n",
            "The miles/gallon for this tank was 19.417476\n",
            "Enter the gallons used (-1 to end): 5\n",
            "Enter the miles driven: 120\n",
            "The miles/gallon for this tank was 24.000000\n",
            "Enter the gallons used (-1 to end): -1\n",
            "The overall average miles/gallon was 21.601423\n"
          ]
        }
      ],
      "source": [
        "#function\n",
        "def calculate_miles_per_gallon():\n",
        "    # Set up variables to record the overall number of miles and gallons.\n",
        "    total_miles = 0\n",
        "    total_gallons = 0\n",
        "\n",
        "    while True:\n",
        "        gallons = float(input(\"Enter the gallons used (-1 to end): \"))\n",
        "        if gallons == -1:\n",
        "            break\n",
        "        miles = float(input(\"Enter the miles driven: \"))\n",
        "\n",
        "        mpg = miles / gallons\n",
        "        print(f\"The miles/gallon for this tank was {mpg:.6f}\")\n",
        "\n",
        "        # Compute the total number of miles and gallons.\n",
        "        total_miles += miles\n",
        "        total_gallons += gallons\n",
        "\n",
        "    # After exiting the loop, calculate the overall average miles per gallon\n",
        "    if total_gallons != 0:\n",
        "        overall_mpg = total_miles / total_gallons\n",
        "        print(f\"The overall average miles/gallon was {overall_mpg:.6f}\")\n",
        "    else:\n",
        "        print(\"No data to calculate overall average miles/gallon.\")\n",
        "\n",
        "# Run The calculate_miles_per_gallon\n",
        "calculate_miles_per_gallon()"
      ]
    },
    {
      "cell_type": "markdown",
      "source": [
        "## Case Study 2"
      ],
      "metadata": {
        "id": "ieNPUZvInZjR"
      }
    },
    {
      "cell_type": "code",
      "source": [
        "import random\n",
        "\n",
        "def roll_dice():\n",
        "    dice1 = random.randint(1, 6)\n",
        "    dice2 = random.randint(1, 6)\n",
        "    return dice1 + dice2, dice1, dice2\n",
        "\n",
        "def play_game():\n",
        "    print(\"Welcome to the Craps Game!\")\n",
        "    print(\"Rules of Game:\")\n",
        "    print(\"1. Roll two six-sided dice.\")\n",
        "    print(\"2. If the sum is 7 or 11 on the first roll, you win.\")\n",
        "    print(\"3. If the sum is 2, 3, or 12 on the first roll, you lose.\")\n",
        "    print(\"4. Any other sum becomes your 'point'.\")\n",
        "    print(\"5. Keep rolling until you 'make your point' or roll a 7 (lose).\")\n",
        "    print()\n",
        "\n",
        "    #Ask the Player to start the Craps Game\n",
        "    input(\"Press Enter to roll the dice.\")\n",
        "\n",
        "    #First Roll\n",
        "    sum_dice, dice1, dice2 = roll_dice()\n",
        "    print(f\"You rolled: {dice1} + {dice2} = {sum_dice}\")\n",
        "\n",
        "    if sum_dice in {7, 11}:\n",
        "        print(\"Congratulations! You win!\")\n",
        "    elif sum_dice in {2, 3, 12}:\n",
        "        print(\"Oh no! You lose!\")\n",
        "    else:\n",
        "        point = sum_dice\n",
        "        print(f\"Your point is: {point}. Keep rolling to make your point.\")\n",
        "\n",
        "        while True:\n",
        "            input(\"Press Enter to roll the dice...\")\n",
        "            sum_dice, dice1, dice2 = roll_dice()\n",
        "            print(f\"You rolled: {dice1} + {dice2} = {sum_dice}\")\n",
        "\n",
        "            if sum_dice == point:\n",
        "                print(\"Congratulations! You made your point and win!\")\n",
        "                break\n",
        "            elif sum_dice == 7:\n",
        "                print(\"Oh no! You rolled a 7 and lose!\")\n",
        "                break\n",
        "\n",
        "# run the game\n",
        "if __name__ == \"__main__\":\n",
        "    play_game()"
      ],
      "metadata": {
        "colab": {
          "base_uri": "https://localhost:8080/"
        },
        "id": "o917HURUmqMn",
        "outputId": "6b95e40d-463d-4c0b-8d1f-25a07433ed2e"
      },
      "execution_count": 2,
      "outputs": [
        {
          "output_type": "stream",
          "name": "stdout",
          "text": [
            "Welcome to the Craps Game!\n",
            "Rules of Game:\n",
            "1. Roll two six-sided dice.\n",
            "2. If the sum is 7 or 11 on the first roll, you win.\n",
            "3. If the sum is 2, 3, or 12 on the first roll, you lose.\n",
            "4. Any other sum becomes your 'point'.\n",
            "5. Keep rolling until you 'make your point' or roll a 7 (lose).\n",
            "\n",
            "Press Enter to roll the dice.\n",
            "You rolled: 5 + 4 = 9\n",
            "Your point is: 9. Keep rolling to make your point.\n",
            "Press Enter to roll the dice...\n",
            "You rolled: 2 + 1 = 3\n",
            "Press Enter to roll the dice...\n",
            "You rolled: 2 + 1 = 3\n",
            "Press Enter to roll the dice...\n",
            "You rolled: 3 + 2 = 5\n",
            "Press Enter to roll the dice...\n",
            "You rolled: 4 + 4 = 8\n",
            "Press Enter to roll the dice...\n",
            "You rolled: 5 + 3 = 8\n",
            "Press Enter to roll the dice...\n",
            "You rolled: 2 + 3 = 5\n",
            "Press Enter to roll the dice...\n",
            "You rolled: 2 + 4 = 6\n",
            "Press Enter to roll the dice...\n",
            "You rolled: 4 + 1 = 5\n",
            "Press Enter to roll the dice...\n",
            "You rolled: 6 + 5 = 11\n",
            "Press Enter to roll the dice...\n",
            "You rolled: 6 + 3 = 9\n",
            "Congratulations! You made your point and win!\n"
          ]
        }
      ]
    },
    {
      "cell_type": "markdown",
      "source": [
        "## Case Study 3"
      ],
      "metadata": {
        "id": "xTlJTI5Rnq-o"
      }
    },
    {
      "cell_type": "code",
      "source": [
        "import statistics\n",
        "\n",
        "# Data in question\n",
        "infection_covid_data = [174, 335, 278, 214, 422, 513, 737, 672, 489, 412, 1301, 1105, 1123, 1376, 1502, 894, 665, 1704, 1656, 1342]\n",
        "\n",
        "#calculations\n",
        "minimum_value = min(infection_covid_data)\n",
        "maximum_value = max(infection_covid_data)\n",
        "range_infection = maximum_value - minimum_value\n",
        "mean = statistics.mean(infection_covid_data)\n",
        "median = statistics.median(infection_covid_data)\n",
        "variance = statistics.variance(infection_covid_data)\n",
        "std_deviation = statistics.stdev(infection_covid_data)\n",
        "\n",
        "# Show the Result\n",
        "print(\"COVID-19 Infection Statistics\")\n",
        "print(f\"data: {infection_covid_data}\")\n",
        "print()\n",
        "print(\"Result:\")\n",
        "print()\n",
        "print(f\"Minimum: {minimum_value}\")\n",
        "print(f\"Maximum: {maximum_value}\")\n",
        "print(f\"Range: {range_infection}\")\n",
        "print(f\"Mean: {mean:.6f}\")\n",
        "print(f\"Median: {median:.6f}\")\n",
        "print(f\"Variance: {variance:.6f}\")\n",
        "print(f\"Standard Deviation: {std_deviation:.6f}\")"
      ],
      "metadata": {
        "colab": {
          "base_uri": "https://localhost:8080/"
        },
        "id": "MVfDTpx3nfXQ",
        "outputId": "fa752387-f886-48ec-df78-9e3aa75b61f2"
      },
      "execution_count": 3,
      "outputs": [
        {
          "output_type": "stream",
          "name": "stdout",
          "text": [
            "COVID-19 Infection Statistics\n",
            "data: [174, 335, 278, 214, 422, 513, 737, 672, 489, 412, 1301, 1105, 1123, 1376, 1502, 894, 665, 1704, 1656, 1342]\n",
            "\n",
            "Result:\n",
            "\n",
            "Minimum: 174\n",
            "Maximum: 1704\n",
            "Range: 1530\n",
            "Mean: 845.700000\n",
            "Median: 704.500000\n",
            "Variance: 253620.747368\n",
            "Standard Deviation: 503.607732\n"
          ]
        }
      ]
    },
    {
      "cell_type": "code",
      "source": [],
      "metadata": {
        "id": "XrGLkxBlnti_"
      },
      "execution_count": null,
      "outputs": []
    }
  ]
}